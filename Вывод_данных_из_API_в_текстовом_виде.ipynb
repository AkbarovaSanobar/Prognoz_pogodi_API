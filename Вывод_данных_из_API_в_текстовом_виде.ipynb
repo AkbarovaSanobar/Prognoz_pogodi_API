{
 "cells": [
  {
   "cell_type": "code",
   "execution_count": 1,
   "id": "42d0f481",
   "metadata": {},
   "outputs": [],
   "source": [
    "import requests\n",
    "import json\n",
    "# https://www.youtube.com/watch?v=oQfNYqz8pLs"
   ]
  },
  {
   "cell_type": "code",
   "execution_count": 2,
   "id": "750a9974",
   "metadata": {},
   "outputs": [
    {
     "data": {
      "text/plain": [
       "[{'rh': 81,\n",
       "  'pod': 'n',\n",
       "  'lon': 69.27,\n",
       "  'pres': 955.2,\n",
       "  'timezone': 'Asia/Tashkent',\n",
       "  'ob_time': '2022-01-16 13:31',\n",
       "  'country_code': 'UZ',\n",
       "  'clouds': 98,\n",
       "  'ts': 1642339904,\n",
       "  'solar_rad': 0,\n",
       "  'state_code': '14',\n",
       "  'city_name': 'Salor',\n",
       "  'wind_spd': 4.1,\n",
       "  'wind_cdir_full': 'east-northeast',\n",
       "  'wind_cdir': 'ENE',\n",
       "  'slp': 1013,\n",
       "  'vis': 5,\n",
       "  'h_angle': -90,\n",
       "  'sunset': '12:20',\n",
       "  'dni': 0,\n",
       "  'dewpt': 7.9,\n",
       "  'snow': 0,\n",
       "  'uv': 0,\n",
       "  'precip': 0,\n",
       "  'wind_dir': 70,\n",
       "  'sunrise': '02:45',\n",
       "  'ghi': 0,\n",
       "  'dhi': 0,\n",
       "  'aqi': 18,\n",
       "  'lat': 41.37,\n",
       "  'weather': {'icon': 'c04n', 'code': 804, 'description': 'Overcast clouds'},\n",
       "  'datetime': '2022-01-16:13',\n",
       "  'temp': 11,\n",
       "  'station': 'UTTT',\n",
       "  'elev_angle': -18.67,\n",
       "  'app_temp': 11}]"
      ]
     },
     "execution_count": 2,
     "metadata": {},
     "output_type": "execute_result"
    }
   ],
   "source": [
    "url =\"https://api.weatherbit.io/v2.0/current?lat=41.37&lon=69.27&key=7c03a0b907284ce69a7a5b57f56c2acf&include=minutely\"\n",
    "\n",
    "json_data = requests.get(url).json()\n",
    "\n",
    "series = json_data['data']\n",
    "series"
   ]
  },
  {
   "cell_type": "code",
   "execution_count": 3,
   "id": "770a33c8",
   "metadata": {},
   "outputs": [
    {
     "data": {
      "text/plain": [
       "list"
      ]
     },
     "execution_count": 3,
     "metadata": {},
     "output_type": "execute_result"
    }
   ],
   "source": [
    "type(series)"
   ]
  },
  {
   "cell_type": "code",
   "execution_count": 12,
   "id": "9b310f6e",
   "metadata": {},
   "outputs": [
    {
     "name": "stdout",
     "output_type": "stream",
     "text": [
      "{'rh': 81, 'pod': 'n', 'lon': 69.27, 'pres': 955.2, 'timezone': 'Asia/Tashkent', 'ob_time': '2022-01-16 13:31', 'country_code': 'UZ', 'clouds': 98, 'ts': 1642339904, 'solar_rad': 0, 'state_code': '14', 'city_name': 'Salor', 'wind_spd': 4.1, 'wind_cdir_full': 'east-northeast', 'wind_cdir': 'ENE', 'slp': 1013, 'vis': 5, 'h_angle': -90, 'sunset': '12:20', 'dni': 0, 'dewpt': 7.9, 'snow': 0, 'uv': 0, 'precip': 0, 'wind_dir': 70, 'sunrise': '02:45', 'ghi': 0, 'dhi': 0, 'aqi': 18, 'lat': 41.37, 'weather': {'icon': 'c04n', 'code': 804, 'description': 'Overcast clouds'}, 'datetime': '2022-01-16:13', 'temp': 11, 'station': 'UTTT', 'elev_angle': -18.67, 'app_temp': 11}\n"
     ]
    }
   ],
   "source": [
    "for prob in series:\n",
    "    print(prob)"
   ]
  },
  {
   "cell_type": "code",
   "execution_count": 22,
   "id": "588cbef1",
   "metadata": {},
   "outputs": [
    {
     "name": "stdout",
     "output_type": "stream",
     "text": [
      "Регион: Asia/Tashkent\n"
     ]
    }
   ],
   "source": [
    "series1 = prob['timezone']\n",
    "print(\"Регион: \"+ series1)"
   ]
  },
  {
   "cell_type": "code",
   "execution_count": 26,
   "id": "1583180a",
   "metadata": {},
   "outputs": [
    {
     "name": "stdout",
     "output_type": "stream",
     "text": [
      "Температура: 11ºC\n"
     ]
    }
   ],
   "source": [
    "series2 = prob['temp']\n",
    "print(\"Температура: \"+ str(series2) + 'ºC')"
   ]
  },
  {
   "cell_type": "code",
   "execution_count": 27,
   "id": "0324553f",
   "metadata": {},
   "outputs": [
    {
     "name": "stdout",
     "output_type": "stream",
     "text": [
      "Влажность воздуха: 81 %\n"
     ]
    }
   ],
   "source": [
    "series3 = prob['rh']\n",
    "print(\"Влажность воздуха: \"+ str(series3) + ' %')"
   ]
  },
  {
   "cell_type": "code",
   "execution_count": 28,
   "id": "5d11cbe9",
   "metadata": {},
   "outputs": [
    {
     "name": "stdout",
     "output_type": "stream",
     "text": [
      "Скорость ветра: 4.1 м/с\n"
     ]
    }
   ],
   "source": [
    "series4 = prob['wind_spd']\n",
    "print(\"Скорость ветра: \"+ str(series4) + ' м/с')"
   ]
  },
  {
   "cell_type": "code",
   "execution_count": 29,
   "id": "31329f92",
   "metadata": {},
   "outputs": [
    {
     "name": "stdout",
     "output_type": "stream",
     "text": [
      "Восход солнца: 02:45\n"
     ]
    }
   ],
   "source": [
    "series5 = prob['sunrise']\n",
    "print(\"Восход солнца: \"+ str(series5))"
   ]
  },
  {
   "cell_type": "code",
   "execution_count": 30,
   "id": "4b5992a3",
   "metadata": {},
   "outputs": [
    {
     "name": "stdout",
     "output_type": "stream",
     "text": [
      "Заход солнца: 12:20\n"
     ]
    }
   ],
   "source": [
    "series6 = prob['sunset']\n",
    "print(\"Заход солнца: \"+ str(series6))"
   ]
  },
  {
   "cell_type": "code",
   "execution_count": null,
   "id": "f5695f88",
   "metadata": {},
   "outputs": [],
   "source": []
  }
 ],
 "metadata": {
  "kernelspec": {
   "display_name": "Python 3",
   "language": "python",
   "name": "python3"
  },
  "language_info": {
   "codemirror_mode": {
    "name": "ipython",
    "version": 3
   },
   "file_extension": ".py",
   "mimetype": "text/x-python",
   "name": "python",
   "nbconvert_exporter": "python",
   "pygments_lexer": "ipython3",
   "version": "3.8.8"
  }
 },
 "nbformat": 4,
 "nbformat_minor": 5
}
